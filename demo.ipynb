{
 "cells": [
  {
   "cell_type": "markdown",
   "metadata": {},
   "source": [
    "missing deps\n",
    "- deepspeed\n",
    "- plotly\n",
    "- nbformat"
   ]
  },
  {
   "cell_type": "code",
   "execution_count": null,
   "metadata": {},
   "outputs": [],
   "source": [
    "import re\n",
    "import tqdm\n",
    "import numpy as np\n",
    "import pandas as pd\n",
    "import plotly.express as px\n",
    "from functools import reduce\n",
    "from openminers.text_to_text.dummy.test_template import TestMiner"
   ]
  },
  {
   "cell_type": "code",
   "execution_count": 2,
   "metadata": {},
   "outputs": [
    {
     "name": "stdout",
     "output_type": "stream",
     "text": [
      "------------------------------------------------------------------------------------------ \n",
      " Interesting question.\n",
      "In order to address that context it's probably useful to tentatively medidate on the contextual viewpoints of the context.\n",
      "------------------------------------------------------------------------------------------ \n",
      " I see your point\n",
      "In order to appropriately answer that context it's probably intelligent to simply medidate on the subjective value of the context.\n",
      "------------------------------------------------------------------------------------------ \n",
      " Well now then..\n",
      "In order to appropriately answer that question it's terribly valuable to first examine the subjective utility of the question.\n",
      "------------------------------------------------------------------------------------------ \n",
      " I've been waiting for this moment.\n",
      "In order to nail that query it's positively important to simply ruminate over the spiritual essence of the query.\n",
      "------------------------------------------------------------------------------------------ \n",
      " You asked the right AI!\n",
      "In order to satisfy that query it's quite important to first contemplate the intended utility of the query.\n"
     ]
    }
   ],
   "source": [
    "miner = TestMiner()\n",
    "for _ in range(5):\n",
    "    print('---'*30,'\\n',miner.model(''))"
   ]
  },
  {
   "cell_type": "code",
   "execution_count": null,
   "metadata": {},
   "outputs": [],
   "source": [
    "nunique = reduce(lambda x,y: x*y, [len(words) for words in miner.choices.values()],1)\n",
    "print(f'Number of unique completions is {nunique:,}')"
   ]
  },
  {
   "cell_type": "code",
   "execution_count": null,
   "metadata": {},
   "outputs": [],
   "source": [
    "def substr_freq_reward(completion, sub='a'):\n",
    "    # this reward model loves the letter a\n",
    "    return completion.count(sub)/len(completion)\n",
    "\n",
    "def word_length_reward(completion):\n",
    "    return np.mean([len(word) for word in completion.split()])*0.5\n",
    "\n",
    "\n",
    "miner = TestMiner()\n",
    "miner.learning_rate=0.5\n",
    "\n",
    "messages = [\n",
    "    {'role':'system', 'content':'You are a good boy'},\n",
    "    {'role':'user', 'content':'What is the capital of Texas?'}\n",
    "]\n",
    "results = []\n",
    "scores = []\n",
    "responses = []\n",
    "max_no_change = 10\n",
    "pbar = tqdm.tqdm(range(10000))\n",
    "for i in pbar:\n",
    "    # print('--'*40)\n",
    "    response = miner.forward(messages=messages)\n",
    "    responses.append(response)\n",
    "    if i>max_no_change and len(set(responses[-max_no_change:]))==1:\n",
    "        print(f'Response has not changed for {max_no_change} steps... quitting training')\n",
    "        break\n",
    "    \n",
    "    rewards = substr_freq_reward(response, sub='at')    \n",
    "    # rewards = word_length_reward(response)\n",
    "    # print(f'response = {response!r}')\n",
    "    # print(f'rewards = {rewards:.3f}')\n",
    "    miner.backward(messages=messages, response=response, rewards=rewards)\n",
    "    scores.append(rewards)\n",
    "    if i%10 == 0:\n",
    "        pbar.set_description(f'Rewards: {rewards:.3f}')\n",
    "    \n",
    "    for key, words in miner.choices.items():\n",
    "        results.append(pd.DataFrame({'step':i, 'response':response, 'rewards':rewards, 'key':key, 'words':words,'weights':miner.weights[key]}))\n",
    "\n",
    "px.line(pd.Series(scores, name='Reward')).show()\n",
    "# miner.weights\n"
   ]
  },
  {
   "cell_type": "code",
   "execution_count": null,
   "metadata": {},
   "outputs": [],
   "source": [
    "df = pd.concat(results)\n",
    "\n",
    "for key in miner.choices:\n",
    "    df_sub = df.loc[df['key']==key].copy()\n",
    "    df_sub['weights_moving_avg'] = df_sub.weights.rolling(5).mean()\n",
    "    px.line(df_sub,x='step',y='weights_moving_avg',color='words',\n",
    "            title=key, template='plotly_white',\n",
    "            ).update_traces(opacity=0.4).show()"
   ]
  },
  {
   "cell_type": "code",
   "execution_count": null,
   "metadata": {},
   "outputs": [],
   "source": []
  },
  {
   "cell_type": "code",
   "execution_count": null,
   "metadata": {},
   "outputs": [],
   "source": [
    "miner = TestMiner()"
   ]
  },
  {
   "cell_type": "code",
   "execution_count": null,
   "metadata": {},
   "outputs": [],
   "source": [
    "nunique = reduce(lambda x,y: x*y, [len(words) for words in miner.choices.values()],1)\n",
    "print(f'Number of unique completions is {nunique:,}')"
   ]
  },
  {
   "cell_type": "code",
   "execution_count": null,
   "metadata": {},
   "outputs": [],
   "source": [
    "for i in range(3):\n",
    "    print(f'{\"---\"*30}\\n{i}:\\n{miner.model(\"\")}')"
   ]
  },
  {
   "cell_type": "code",
   "execution_count": null,
   "metadata": {},
   "outputs": [],
   "source": [
    "completion = miner.model(\"\")\n",
    "completion"
   ]
  },
  {
   "cell_type": "code",
   "execution_count": null,
   "metadata": {},
   "outputs": [],
   "source": [
    "miner.template"
   ]
  },
  {
   "cell_type": "code",
   "execution_count": null,
   "metadata": {},
   "outputs": [],
   "source": [
    "response = miner.forward(messages=messages)\n",
    "response"
   ]
  },
  {
   "cell_type": "code",
   "execution_count": null,
   "metadata": {},
   "outputs": [],
   "source": [
    "cc = '('+'|'.join(miner.choices['opening_phrase'])+')'\n",
    "cc = cc.replace('.','\\.')\n",
    "cc"
   ]
  },
  {
   "cell_type": "code",
   "execution_count": null,
   "metadata": {},
   "outputs": [],
   "source": [
    "re.search(cc, response)"
   ]
  },
  {
   "cell_type": "code",
   "execution_count": null,
   "metadata": {},
   "outputs": [],
   "source": [
    "keywords = re.findall(r\"{(.*?)}\", miner.template)\n",
    "print(keywords)\n",
    "\n",
    "pattern = re.escape(miner.template)\n",
    "seen = set()\n",
    "for i, key in enumerate(keywords):\n",
    "    if key not in seen:\n",
    "        name = key\n",
    "        seen.add(key)\n",
    "    else:\n",
    "        name = f'key{i}'    \n",
    "    wordmatch = ('('+'|'.join(miner.choices[key])+')').replace('.','\\.')\n",
    "    pattern = pattern.replace(\"\\\\{\"+key+\"\\\\}\", f\"(?P<{name}>{wordmatch})\",1)\n",
    "pattern\n"
   ]
  },
  {
   "cell_type": "code",
   "execution_count": null,
   "metadata": {},
   "outputs": [],
   "source": [
    "completion = \"Yes, that's a good question\\nIn order to appropriately answer that query it's possibly wise to simply be cognizant of the intended perspectives of the query.\"\n",
    "# Use the pattern to extract the values\n",
    "match = re.match(pattern, completion)\n",
    "selected_words = match.groupdict()\n",
    "selected_words"
   ]
  },
  {
   "cell_type": "code",
   "execution_count": null,
   "metadata": {},
   "outputs": [],
   "source": [
    "choice_indices = {key: words.index(selected_words[key]) for key, words in miner.choices.items()}\n",
    "choice_indices"
   ]
  },
  {
   "cell_type": "code",
   "execution_count": null,
   "metadata": {},
   "outputs": [],
   "source": [
    "rewards = 10.\n",
    "for key, index in choice_indices.items():\n",
    "    miner.weights[key][index] += miner.learning_rate * rewards\n",
    "    miner.weights[key]/=miner.weights[key].sum()"
   ]
  },
  {
   "cell_type": "code",
   "execution_count": null,
   "metadata": {},
   "outputs": [],
   "source": []
  },
  {
   "cell_type": "code",
   "execution_count": null,
   "metadata": {},
   "outputs": [],
   "source": []
  }
 ],
 "metadata": {
  "kernelspec": {
   "display_name": "env",
   "language": "python",
   "name": "python3"
  },
  "language_info": {
   "codemirror_mode": {
    "name": "ipython",
    "version": 3
   },
   "file_extension": ".py",
   "mimetype": "text/x-python",
   "name": "python",
   "nbconvert_exporter": "python",
   "pygments_lexer": "ipython3",
   "version": "3.10.7"
  },
  "orig_nbformat": 4
 },
 "nbformat": 4,
 "nbformat_minor": 2
}
